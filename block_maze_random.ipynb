{
  "nbformat": 4,
  "nbformat_minor": 0,
  "metadata": {
    "colab": {
      "name": "block_maze_random",
      "provenance": [],
      "collapsed_sections": []
    },
    "kernelspec": {
      "name": "python3",
      "display_name": "Python 3"
    }
  },
  "cells": [
    {
      "cell_type": "markdown",
      "metadata": {
        "id": "tXl81TDZe_jY"
      },
      "source": [
        "事前準備(共通)"
      ]
    },
    {
      "cell_type": "code",
      "metadata": {
        "id": "uF74Vfm1zsWJ"
      },
      "source": [
        "# 使用するパッケージの宣言\n",
        "import numpy as np\n",
        "import matplotlib.pyplot as plt\n",
        "%matplotlib inline"
      ],
      "execution_count": null,
      "outputs": []
    },
    {
      "cell_type": "code",
      "metadata": {
        "id": "AImOrxGj1mTS"
      },
      "source": [
        "# dire.csvを読み込む　255*4\n",
        "dire = np.genfromtxt('dire.csv', delimiter=',')\n",
        "np.set_printoptions(threshold=np.inf)"
      ],
      "execution_count": null,
      "outputs": []
    },
    {
      "cell_type": "code",
      "metadata": {
        "id": "6lqxyO-1gIZl"
      },
      "source": [
        "# print(dire)"
      ],
      "execution_count": null,
      "outputs": []
    },
    {
      "cell_type": "code",
      "metadata": {
        "id": "zng2NhWn1ng4"
      },
      "source": [
        "theta_0 = np.array(dire)"
      ],
      "execution_count": null,
      "outputs": []
    },
    {
      "cell_type": "code",
      "metadata": {
        "id": "HoFDZkqDgJ1t"
      },
      "source": [
        "# print(theta_0)"
      ],
      "execution_count": null,
      "outputs": []
    },
    {
      "cell_type": "code",
      "metadata": {
        "id": "cWbYCp9L0JcT"
      },
      "source": [
        "# 方策パラメータthetaを行動方策piに変換する関数の定義\n",
        "def simple_convert_into_pi_from_theta(theta):\n",
        "\n",
        "    [m, n] = theta.shape  # thetaの行列サイズを取得\n",
        "    pi = np.zeros((m, n))\n",
        "    for i in range(0, m):\n",
        "        pi[i, :] = theta[i, :] / np.nansum(theta[i, :])  # 各マスの四方向の確率を計算\n",
        "\n",
        "    pi = np.nan_to_num(pi)  # nanを0に変換\n",
        "\n",
        "    return pi"
      ],
      "execution_count": null,
      "outputs": []
    },
    {
      "cell_type": "code",
      "metadata": {
        "id": "V_hSOeQv0Ng4"
      },
      "source": [
        "# 初期の方策pi_0を求める\n",
        "pi_0 = simple_convert_into_pi_from_theta(theta_0)"
      ],
      "execution_count": null,
      "outputs": []
    },
    {
      "cell_type": "code",
      "metadata": {
        "id": "UV2JLEzf0P53"
      },
      "source": [
        "# print(pi_0)"
      ],
      "execution_count": null,
      "outputs": []
    },
    {
      "cell_type": "code",
      "metadata": {
        "id": "G4Cr9_Uy0R2O"
      },
      "source": [
        "# 1step移動後の状態sを求める関数を定義\n",
        "def get_next_s(pi, s):\n",
        "    direction = [\"up\", \"right\", \"down\", \"left\"]\n",
        "\n",
        "    next_direction = np.random.choice(direction, p=pi[s, :])\n",
        "    # pi[s,:]の確率に従って、directionが選択される\n",
        "   \n",
        "    # 15×17の迷路\n",
        "    if next_direction == \"up\":\n",
        "        s_next = s - 17  # 上に移動するときは状態の数字が17小さくなる\n",
        "    elif next_direction == \"right\":\n",
        "        s_next = s + 1  # 右に移動するときは状態の数字が1大きくなる\n",
        "    elif next_direction == \"down\":\n",
        "        s_next = s + 17  # 下に移動するときは状態の数字が17大きくなる\n",
        "    elif next_direction == \"left\":\n",
        "        s_next = s - 1  # 左に移動するときは状態の数字が1小さくなる\n",
        "\n",
        "    return s_next"
      ],
      "execution_count": null,
      "outputs": []
    },
    {
      "cell_type": "code",
      "metadata": {
        "id": "Pm-75i0G0Udd"
      },
      "source": [
        "# 迷路内をエージェントがゴールするまで移動させる関数の定義\n",
        "def goal_maze(pi):\n",
        "    s = 238  # スタート地点\n",
        "    state_history = [0]  # エージェントの移動を記録するリスト\n",
        "\n",
        "    while (1):  # ゴールするまでループ\n",
        "        next_s = get_next_s(pi, s)\n",
        "        state_history.append(next_s)  # 記録リストに次の状態（エージェントの位置）を追加\n",
        "\n",
        "        if next_s == 246:  # ゴール地点なら終了\n",
        "            break\n",
        "        else:\n",
        "            s = next_s\n",
        "\n",
        "    return state_history"
      ],
      "execution_count": null,
      "outputs": []
    },
    {
      "cell_type": "markdown",
      "metadata": {
        "id": "p7nlEAwGfMPf"
      },
      "source": [
        ""
      ]
    },
    {
      "cell_type": "code",
      "metadata": {
        "id": "imgSk-g-0Wdd",
        "colab": {
          "base_uri": "https://localhost:8080/"
        },
        "outputId": "21351fc9-8244-457b-c51c-608bb01f73cf"
      },
      "source": [
        "# 実行時間を測定\n",
        "from time import time\n",
        "start_time = time()\n",
        "\n",
        "state_history = goal_maze(pi_0)\n",
        "\n",
        "proc_time = time() - start_time\n",
        "print(\"実行時間は：\", proc_time,\"秒\")\n",
        "print(\"最短経路長は\" + str(len(state_history)) + \"です\")"
      ],
      "execution_count": null,
      "outputs": [
        {
          "output_type": "stream",
          "text": [
            "実行時間は： 0.16340899467468262 秒\n",
            "最短経路長は2249です\n"
          ],
          "name": "stdout"
        }
      ]
    },
    {
      "cell_type": "code",
      "metadata": {
        "id": "MycxypWF0gtL"
      },
      "source": [
        ""
      ],
      "execution_count": null,
      "outputs": []
    }
  ]
}